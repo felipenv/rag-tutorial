{
 "cells": [
  {
   "cell_type": "markdown",
   "id": "4e1d9d3e-e1e6-43a2-b461-d11046b57312",
   "metadata": {},
   "source": [
    "# RAG"
   ]
  },
  {
   "cell_type": "code",
   "execution_count": null,
   "id": "19406c31-9bb6-494c-b201-6106548a4a04",
   "metadata": {},
   "outputs": [],
   "source": [
    "# !pip install -e ../"
   ]
  },
  {
   "cell_type": "markdown",
   "id": "256d5cdf-4f0b-4e99-98e9-773e1ba23d64",
   "metadata": {},
   "source": [
    "### Settings"
   ]
  },
  {
   "cell_type": "code",
   "execution_count": null,
   "id": "5eec1d4e-0279-4220-af2c-28097801a780",
   "metadata": {},
   "outputs": [],
   "source": [
    "settings = {\n",
    "    \"index_folder\": \"../indexes\",\n",
    "    \"prompt_folder\": \"../prompts\"\n",
    "}\n"
   ]
  },
  {
   "cell_type": "markdown",
   "id": "736f156c-2e81-4f8d-b35a-aad609001b59",
   "metadata": {},
   "source": [
    "## Using the RAG\n",
    "- the RAG will use a prompt template in the prompts folder. The prompt has a placeholder for the query and for the context.\n",
    "- Feel free to modify the prompts, but always keep a placeholder for both query and context."
   ]
  },
  {
   "cell_type": "code",
   "execution_count": null,
   "id": "349850d2-e659-46d9-8197-43ba9ba868fe",
   "metadata": {},
   "outputs": [],
   "source": [
    "from rag import RAG"
   ]
  },
  {
   "cell_type": "code",
   "execution_count": null,
   "id": "401810dc-e035-4190-a3f4-856929d950e6",
   "metadata": {},
   "outputs": [],
   "source": [
    "rag = RAG()"
   ]
  },
  {
   "cell_type": "code",
   "execution_count": null,
   "id": "984b889e-a264-4619-9d96-cf6137023f88",
   "metadata": {},
   "outputs": [],
   "source": [
    "query = \"what are you up to in the weekend?\""
   ]
  },
  {
   "cell_type": "code",
   "execution_count": null,
   "id": "ca41888a-8d70-4263-9bc5-2c6cf3d0fc36",
   "metadata": {},
   "outputs": [],
   "source": [
    "character = \"deadpool\"\n",
    "answer = rag.generate_rag_response(query, settings, character=character, top_k=1)"
   ]
  },
  {
   "cell_type": "code",
   "execution_count": null,
   "id": "bd22fa98-15d5-41a4-8207-5c5769280764",
   "metadata": {},
   "outputs": [],
   "source": [
    "print(answer)"
   ]
  },
  {
   "cell_type": "code",
   "execution_count": null,
   "id": "896bf668-769f-4899-9dc2-0f4172f46ee8",
   "metadata": {},
   "outputs": [],
   "source": [
    "character = \"shakespeare\"\n",
    "answer = rag.generate_rag_response(query, settings, character=character, top_k=1)"
   ]
  },
  {
   "cell_type": "code",
   "execution_count": null,
   "id": "4de1f7de-c46c-48c7-b46f-ebd583901977",
   "metadata": {},
   "outputs": [],
   "source": [
    "print(answer)"
   ]
  },
  {
   "cell_type": "code",
   "execution_count": null,
   "id": "f20331c0-ca1a-421d-a557-03013e37b46e",
   "metadata": {},
   "outputs": [],
   "source": []
  },
  {
   "cell_type": "markdown",
   "id": "ab8ada8b-0680-445a-ae4b-0bfc5a37252d",
   "metadata": {},
   "source": [
    "## Refining the RAG\n",
    "From this simple example, you can refine by:\n",
    "- tweaking the prompt\n",
    "- changing context by using differnet top_k chunks\n",
    "- ingest to the index using different max_tokens for the chunks\n",
    "\n",
    "Expanding to new usecases\n",
    "- add more datasets\n",
    "- query enrichment\n",
    "- ingest different metadata and querying using metadata in vector stores that have this support"
   ]
  },
  {
   "cell_type": "code",
   "execution_count": null,
   "id": "6da1d0bd-cfca-42ff-9333-5be1f2c12908",
   "metadata": {},
   "outputs": [],
   "source": []
  }
 ],
 "metadata": {
  "kernelspec": {
   "display_name": "Python 3 (ipykernel)",
   "language": "python",
   "name": "python3"
  },
  "language_info": {
   "codemirror_mode": {
    "name": "ipython",
    "version": 3
   },
   "file_extension": ".py",
   "mimetype": "text/x-python",
   "name": "python",
   "nbconvert_exporter": "python",
   "pygments_lexer": "ipython3",
   "version": "3.11.5"
  }
 },
 "nbformat": 4,
 "nbformat_minor": 5
}
