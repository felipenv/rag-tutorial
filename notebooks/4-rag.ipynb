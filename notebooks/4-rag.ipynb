{
 "cells": [
  {
   "cell_type": "markdown",
   "id": "4e1d9d3e-e1e6-43a2-b461-d11046b57312",
   "metadata": {},
   "source": [
    "# RAG"
   ]
  },
  {
   "cell_type": "code",
   "execution_count": 29,
   "id": "19406c31-9bb6-494c-b201-6106548a4a04",
   "metadata": {},
   "outputs": [
    {
     "name": "stdout",
     "output_type": "stream",
     "text": [
      "Obtaining file:///Users/Felipe_Vianna/BoxSync/iguazio/demos/rag-tutorial\n",
      "  Preparing metadata (setup.py) ... \u001b[?25ldone\n",
      "\u001b[?25hInstalling collected packages: rag-tutorial\n",
      "  Attempting uninstall: rag-tutorial\n",
      "    Found existing installation: rag-tutorial 0.1.0\n",
      "    Uninstalling rag-tutorial-0.1.0:\n",
      "      Successfully uninstalled rag-tutorial-0.1.0\n",
      "\u001b[33m  DEPRECATION: Legacy editable install of rag-tutorial==0.1.0 from file:///Users/Felipe_Vianna/BoxSync/iguazio/demos/rag-tutorial (setup.py develop) is deprecated. pip 25.0 will enforce this behaviour change. A possible replacement is to add a pyproject.toml or enable --use-pep517, and use setuptools >= 64. If the resulting installation is not behaving as expected, try using --config-settings editable_mode=compat. Please consult the setuptools documentation for more information. Discussion can be found at https://github.com/pypa/pip/issues/11457\u001b[0m\u001b[33m\n",
      "\u001b[0m  Running setup.py develop for rag-tutorial\n",
      "Successfully installed rag-tutorial-0.1.0\n"
     ]
    }
   ],
   "source": [
    "!pip install -e ../"
   ]
  },
  {
   "cell_type": "markdown",
   "id": "256d5cdf-4f0b-4e99-98e9-773e1ba23d64",
   "metadata": {},
   "source": [
    "## Settings"
   ]
  },
  {
   "cell_type": "code",
   "execution_count": 1,
   "id": "5eec1d4e-0279-4220-af2c-28097801a780",
   "metadata": {},
   "outputs": [],
   "source": [
    "settings = {\n",
    "    \"index_folder\": \"../indexes\",\n",
    "    \"prompt_folder\": \"../prompts\"\n",
    "}\n"
   ]
  },
  {
   "cell_type": "markdown",
   "id": "736f156c-2e81-4f8d-b35a-aad609001b59",
   "metadata": {},
   "source": [
    "### Using the RAG"
   ]
  },
  {
   "cell_type": "code",
   "execution_count": 2,
   "id": "349850d2-e659-46d9-8197-43ba9ba868fe",
   "metadata": {},
   "outputs": [],
   "source": [
    "from rag import RAG"
   ]
  },
  {
   "cell_type": "code",
   "execution_count": 3,
   "id": "401810dc-e035-4190-a3f4-856929d950e6",
   "metadata": {},
   "outputs": [],
   "source": [
    "rag = RAG()"
   ]
  },
  {
   "cell_type": "code",
   "execution_count": 15,
   "id": "984b889e-a264-4619-9d96-cf6137023f88",
   "metadata": {},
   "outputs": [],
   "source": [
    "query = \"what are you up to in the weekend?\""
   ]
  },
  {
   "cell_type": "code",
   "execution_count": 16,
   "id": "ca41888a-8d70-4263-9bc5-2c6cf3d0fc36",
   "metadata": {},
   "outputs": [
    {
     "name": "stderr",
     "output_type": "stream",
     "text": [
      "2024-12-02 17:31:38,728 - INFO - Querying FAISS index: '../indexes/deadpool.index'\n",
      "2024-12-02 17:31:39,462 - INFO - HTTP Request: POST https://openai.prod.ai-gateway.quantumblack.com/1f136b43-41e9-4249-8bcd-939a39713bfe/v1/embeddings \"HTTP/1.1 200 OK\"\n",
      "2024-12-02 17:31:39,470 - INFO - Query completed. Retrieved 1 results.\n",
      "2024-12-02 17:31:39,480 - INFO - Sending query to GPT-4...\n",
      "2024-12-02 17:31:50,116 - INFO - HTTP Request: POST https://openai.prod.ai-gateway.quantumblack.com/1f136b43-41e9-4249-8bcd-939a39713bfe/v1/chat/completions \"HTTP/1.1 200 OK\"\n"
     ]
    }
   ],
   "source": [
    "character = \"deadpool\"\n",
    "answer = rag.generate_rag_response(query, settings, character=character, top_k=1)"
   ]
  },
  {
   "cell_type": "code",
   "execution_count": 17,
   "id": "bd22fa98-15d5-41a4-8207-5c5769280764",
   "metadata": {},
   "outputs": [
    {
     "name": "stdout",
     "output_type": "stream",
     "text": [
      "Ah, the weekend! That magical time when the universe cuts us some slack and we all pretend to be excitedly adventurous, as if we’re trying to keep up with an episode of \"The Amazing Race\" but sans the stress and jetlag. So, what am I up to, you ask? Probably something as dangerously thrilling as organizing my collection of unicorn onesies—don't judge, they're fabulous and I rock them like Hugh Jackman rocks everything he touches.\n",
      "\n",
      "Or maybe I'll finally get around to watching all those Netflix shows that everyone spoils before I get a chance to watch them. Spoilers are basically the Donald Trump tweets of fandom, am I right? Always ruining the plot with a single line.\n",
      "\n",
      "I'll definitely squeeze in time for saving the world from villains who monologue more than your conspiracy theory-obsessed uncle at Thanksgiving. You know, all in a day's work while dipping chimichangas in tears of joy—or maybe it’s salsa. I get those two confused sometimes.\n",
      "\n",
      "And hey, I might even pop on over to that inter-dimensional yard sale and find a mint-condition first edition of \"The Infinity Gauntlet.\" Or swing by your place to help iron your Jayden Smith collars. Because I’m a giver.\n",
      "\n",
      "So what about you, fearless question-asker? Planning to conquer any personal Kobayashi Marus or just sticking to binge-watching and napping like a professional? Either way, remember to party like a rock star, save like Dave Ramsey, and snack like the Hulk himself.\n",
      "\n",
      "Cheers, and don’t do anything I wouldn’t do—except maybe avoiding getting involved in dramatic plot twists with high stakes, because trust me, they look easier in comic books.\n"
     ]
    }
   ],
   "source": [
    "print(answer)"
   ]
  },
  {
   "cell_type": "code",
   "execution_count": 18,
   "id": "896bf668-769f-4899-9dc2-0f4172f46ee8",
   "metadata": {},
   "outputs": [
    {
     "name": "stderr",
     "output_type": "stream",
     "text": [
      "2024-12-02 17:31:50,134 - INFO - Querying FAISS index: '../indexes/shakespeare.index'\n",
      "2024-12-02 17:31:50,750 - INFO - HTTP Request: POST https://openai.prod.ai-gateway.quantumblack.com/1f136b43-41e9-4249-8bcd-939a39713bfe/v1/embeddings \"HTTP/1.1 200 OK\"\n",
      "2024-12-02 17:31:50,866 - INFO - Query completed. Retrieved 1 results.\n",
      "2024-12-02 17:31:50,868 - INFO - Sending query to GPT-4...\n",
      "2024-12-02 17:31:53,733 - INFO - HTTP Request: POST https://openai.prod.ai-gateway.quantumblack.com/1f136b43-41e9-4249-8bcd-939a39713bfe/v1/chat/completions \"HTTP/1.1 200 OK\"\n"
     ]
    }
   ],
   "source": [
    "character = \"shakespeare\"\n",
    "answer = rag.generate_rag_response(query, settings, character=character, top_k=1)"
   ]
  },
  {
   "cell_type": "code",
   "execution_count": 19,
   "id": "4de1f7de-c46c-48c7-b46f-ebd583901977",
   "metadata": {},
   "outputs": [
    {
     "name": "stdout",
     "output_type": "stream",
     "text": [
      "Good morrow, gentle inquirer of mine intent,  \n",
      "This weekend's compass shall guide my steps where'er it bent.  \n",
      "Forsooth, whilst time doth grant its fleeting grace,  \n",
      "I'll weave my hours in sacred, tranquil space.\n",
      "\n",
      "On Saturday's dawn, as Aurora's fingers paint,  \n",
      "The sky with hues that even poets might faint,  \n",
      "I shall in nature's gentle arms recline,  \n",
      "To breathe the breath of fair Flora's sweet design.\n",
      "\n",
      "In afternoon's embrace, where sun doth linger,  \n",
      "To th' theatre's realm, I'll point my eager finger.  \n",
      "There, amidst the playhouse's lively throng,  \n",
      "I'll revel in the actors' dulcet song.\n",
      "\n",
      "And when the morrow's sun shall rise anew,  \n",
      "I'll find solace 'neath canopy of blue.  \n",
      "A stroll by avon’s gentle, shimmering tide,  \n",
      "In thoughtful muse, with time as gentle guide.\n",
      "\n",
      "Thus, my weekend's tale, with purpose rife,  \n",
      "Shall be a sonnet writ in the book of life.  \n",
      "Pray, tell, dear friend, what ventures dost thou choose,  \n",
      "In this fair span of time we ne'er refuse?\n"
     ]
    }
   ],
   "source": [
    "print(answer)"
   ]
  },
  {
   "cell_type": "code",
   "execution_count": null,
   "id": "f20331c0-ca1a-421d-a557-03013e37b46e",
   "metadata": {},
   "outputs": [],
   "source": []
  }
 ],
 "metadata": {
  "kernelspec": {
   "display_name": "Python 3 (ipykernel)",
   "language": "python",
   "name": "python3"
  },
  "language_info": {
   "codemirror_mode": {
    "name": "ipython",
    "version": 3
   },
   "file_extension": ".py",
   "mimetype": "text/x-python",
   "name": "python",
   "nbconvert_exporter": "python",
   "pygments_lexer": "ipython3",
   "version": "3.11.5"
  }
 },
 "nbformat": 4,
 "nbformat_minor": 5
}
