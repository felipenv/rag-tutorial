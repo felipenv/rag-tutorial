{
 "cells": [
  {
   "cell_type": "markdown",
   "id": "d92f8afe-3b7e-45be-bb99-40bb510b9f02",
   "metadata": {},
   "source": [
    "## Install packages"
   ]
  },
  {
   "cell_type": "code",
   "execution_count": 1,
   "id": "cc89af77-5909-4fe3-b493-7854b7e1b142",
   "metadata": {
    "scrolled": true
   },
   "outputs": [
    {
     "name": "stdout",
     "output_type": "stream",
     "text": [
      "Requirement already satisfied: aiohappyeyeballs==2.4.3 in /Users/Felipe_Vianna/.pyenv/versions/3.11.5/lib/python3.11/site-packages (from -r requirements.txt (line 1)) (2.4.3)\n",
      "Requirement already satisfied: aiohttp==3.11.6 in /Users/Felipe_Vianna/.pyenv/versions/3.11.5/lib/python3.11/site-packages (from -r requirements.txt (line 2)) (3.11.6)\n",
      "Requirement already satisfied: aiosignal==1.3.1 in /Users/Felipe_Vianna/.pyenv/versions/3.11.5/lib/python3.11/site-packages (from -r requirements.txt (line 3)) (1.3.1)\n",
      "Requirement already satisfied: annotated-types==0.7.0 in /Users/Felipe_Vianna/.pyenv/versions/3.11.5/lib/python3.11/site-packages (from -r requirements.txt (line 4)) (0.7.0)\n",
      "Requirement already satisfied: anyio==4.6.2.post1 in /Users/Felipe_Vianna/.pyenv/versions/3.11.5/lib/python3.11/site-packages (from -r requirements.txt (line 5)) (4.6.2.post1)\n",
      "Requirement already satisfied: asttokens==2.4.1 in /Users/Felipe_Vianna/.pyenv/versions/3.11.5/lib/python3.11/site-packages (from -r requirements.txt (line 6)) (2.4.1)\n",
      "Requirement already satisfied: attrs==24.2.0 in /Users/Felipe_Vianna/.pyenv/versions/3.11.5/lib/python3.11/site-packages (from -r requirements.txt (line 7)) (24.2.0)\n",
      "Requirement already satisfied: beautifulsoup4==4.12.3 in /Users/Felipe_Vianna/.pyenv/versions/3.11.5/lib/python3.11/site-packages (from -r requirements.txt (line 8)) (4.12.3)\n",
      "Requirement already satisfied: bleach==6.2.0 in /Users/Felipe_Vianna/.pyenv/versions/3.11.5/lib/python3.11/site-packages (from -r requirements.txt (line 9)) (6.2.0)\n",
      "Requirement already satisfied: blinker==1.9.0 in /Users/Felipe_Vianna/.pyenv/versions/3.11.5/lib/python3.11/site-packages (from -r requirements.txt (line 10)) (1.9.0)\n",
      "Requirement already satisfied: certifi==2024.8.30 in /Users/Felipe_Vianna/.pyenv/versions/3.11.5/lib/python3.11/site-packages (from -r requirements.txt (line 11)) (2024.8.30)\n",
      "Requirement already satisfied: charset-normalizer==3.4.0 in /Users/Felipe_Vianna/.pyenv/versions/3.11.5/lib/python3.11/site-packages (from -r requirements.txt (line 12)) (3.4.0)\n",
      "Requirement already satisfied: click==8.1.7 in /Users/Felipe_Vianna/.pyenv/versions/3.11.5/lib/python3.11/site-packages (from -r requirements.txt (line 13)) (8.1.7)\n",
      "Requirement already satisfied: dataclasses-json==0.6.7 in /Users/Felipe_Vianna/.pyenv/versions/3.11.5/lib/python3.11/site-packages (from -r requirements.txt (line 14)) (0.6.7)\n",
      "Requirement already satisfied: decorator==5.1.1 in /Users/Felipe_Vianna/.pyenv/versions/3.11.5/lib/python3.11/site-packages (from -r requirements.txt (line 15)) (5.1.1)\n",
      "Requirement already satisfied: defusedxml==0.7.1 in /Users/Felipe_Vianna/.pyenv/versions/3.11.5/lib/python3.11/site-packages (from -r requirements.txt (line 16)) (0.7.1)\n",
      "Requirement already satisfied: Deprecated==1.2.15 in /Users/Felipe_Vianna/.pyenv/versions/3.11.5/lib/python3.11/site-packages (from -r requirements.txt (line 17)) (1.2.15)\n",
      "Requirement already satisfied: dirtyjson==1.0.8 in /Users/Felipe_Vianna/.pyenv/versions/3.11.5/lib/python3.11/site-packages (from -r requirements.txt (line 18)) (1.0.8)\n",
      "Requirement already satisfied: distro==1.9.0 in /Users/Felipe_Vianna/.pyenv/versions/3.11.5/lib/python3.11/site-packages (from -r requirements.txt (line 19)) (1.9.0)\n",
      "Requirement already satisfied: executing==2.1.0 in /Users/Felipe_Vianna/.pyenv/versions/3.11.5/lib/python3.11/site-packages (from -r requirements.txt (line 20)) (2.1.0)\n",
      "Requirement already satisfied: faiss-cpu==1.9.0.post1 in /Users/Felipe_Vianna/.pyenv/versions/3.11.5/lib/python3.11/site-packages (from -r requirements.txt (line 21)) (1.9.0.post1)\n",
      "Requirement already satisfied: fastjsonschema==2.20.0 in /Users/Felipe_Vianna/.pyenv/versions/3.11.5/lib/python3.11/site-packages (from -r requirements.txt (line 22)) (2.20.0)\n",
      "Requirement already satisfied: filelock==3.16.1 in /Users/Felipe_Vianna/.pyenv/versions/3.11.5/lib/python3.11/site-packages (from -r requirements.txt (line 23)) (3.16.1)\n",
      "Requirement already satisfied: filetype==1.2.0 in /Users/Felipe_Vianna/.pyenv/versions/3.11.5/lib/python3.11/site-packages (from -r requirements.txt (line 24)) (1.2.0)\n",
      "Requirement already satisfied: Flask==3.1.0 in /Users/Felipe_Vianna/.pyenv/versions/3.11.5/lib/python3.11/site-packages (from -r requirements.txt (line 25)) (3.1.0)\n",
      "Requirement already satisfied: frozenlist==1.5.0 in /Users/Felipe_Vianna/.pyenv/versions/3.11.5/lib/python3.11/site-packages (from -r requirements.txt (line 26)) (1.5.0)\n",
      "Requirement already satisfied: fsspec==2024.10.0 in /Users/Felipe_Vianna/.pyenv/versions/3.11.5/lib/python3.11/site-packages (from -r requirements.txt (line 27)) (2024.10.0)\n",
      "Requirement already satisfied: greenlet==3.1.1 in /Users/Felipe_Vianna/.pyenv/versions/3.11.5/lib/python3.11/site-packages (from -r requirements.txt (line 28)) (3.1.1)\n",
      "Requirement already satisfied: h11==0.14.0 in /Users/Felipe_Vianna/.pyenv/versions/3.11.5/lib/python3.11/site-packages (from -r requirements.txt (line 29)) (0.14.0)\n",
      "Requirement already satisfied: httpcore==1.0.7 in /Users/Felipe_Vianna/.pyenv/versions/3.11.5/lib/python3.11/site-packages (from -r requirements.txt (line 30)) (1.0.7)\n",
      "Requirement already satisfied: httpx==0.27.2 in /Users/Felipe_Vianna/.pyenv/versions/3.11.5/lib/python3.11/site-packages (from -r requirements.txt (line 31)) (0.27.2)\n",
      "Requirement already satisfied: huggingface-hub==0.26.2 in /Users/Felipe_Vianna/.pyenv/versions/3.11.5/lib/python3.11/site-packages (from -r requirements.txt (line 32)) (0.26.2)\n",
      "Requirement already satisfied: idna==3.10 in /Users/Felipe_Vianna/.pyenv/versions/3.11.5/lib/python3.11/site-packages (from -r requirements.txt (line 33)) (3.10)\n",
      "Requirement already satisfied: ipython==8.29.0 in /Users/Felipe_Vianna/.pyenv/versions/3.11.5/lib/python3.11/site-packages (from -r requirements.txt (line 34)) (8.29.0)\n",
      "Requirement already satisfied: itsdangerous==2.2.0 in /Users/Felipe_Vianna/.pyenv/versions/3.11.5/lib/python3.11/site-packages (from -r requirements.txt (line 35)) (2.2.0)\n",
      "Requirement already satisfied: jedi==0.19.2 in /Users/Felipe_Vianna/.pyenv/versions/3.11.5/lib/python3.11/site-packages (from -r requirements.txt (line 36)) (0.19.2)\n",
      "Requirement already satisfied: Jinja2==3.1.4 in /Users/Felipe_Vianna/.pyenv/versions/3.11.5/lib/python3.11/site-packages (from -r requirements.txt (line 37)) (3.1.4)\n",
      "Requirement already satisfied: jiter==0.7.1 in /Users/Felipe_Vianna/.pyenv/versions/3.11.5/lib/python3.11/site-packages (from -r requirements.txt (line 38)) (0.7.1)\n",
      "Requirement already satisfied: joblib==1.4.2 in /Users/Felipe_Vianna/.pyenv/versions/3.11.5/lib/python3.11/site-packages (from -r requirements.txt (line 39)) (1.4.2)\n",
      "Requirement already satisfied: jsonpatch==1.33 in /Users/Felipe_Vianna/.pyenv/versions/3.11.5/lib/python3.11/site-packages (from -r requirements.txt (line 40)) (1.33)\n",
      "Requirement already satisfied: jsonpointer==3.0.0 in /Users/Felipe_Vianna/.pyenv/versions/3.11.5/lib/python3.11/site-packages (from -r requirements.txt (line 41)) (3.0.0)\n",
      "Requirement already satisfied: jsonschema==4.23.0 in /Users/Felipe_Vianna/.pyenv/versions/3.11.5/lib/python3.11/site-packages (from -r requirements.txt (line 42)) (4.23.0)\n",
      "Requirement already satisfied: jsonschema-specifications==2024.10.1 in /Users/Felipe_Vianna/.pyenv/versions/3.11.5/lib/python3.11/site-packages (from -r requirements.txt (line 43)) (2024.10.1)\n",
      "Requirement already satisfied: jupyter_client==8.6.3 in /Users/Felipe_Vianna/.pyenv/versions/3.11.5/lib/python3.11/site-packages (from -r requirements.txt (line 44)) (8.6.3)\n",
      "Requirement already satisfied: jupyter_core==5.7.2 in /Users/Felipe_Vianna/.pyenv/versions/3.11.5/lib/python3.11/site-packages (from -r requirements.txt (line 45)) (5.7.2)\n",
      "Requirement already satisfied: jupyterlab_pygments==0.3.0 in /Users/Felipe_Vianna/.pyenv/versions/3.11.5/lib/python3.11/site-packages (from -r requirements.txt (line 46)) (0.3.0)\n",
      "Requirement already satisfied: langchain==0.3.7 in /Users/Felipe_Vianna/.pyenv/versions/3.11.5/lib/python3.11/site-packages (from -r requirements.txt (line 47)) (0.3.7)\n",
      "Requirement already satisfied: langchain-core==0.3.19 in /Users/Felipe_Vianna/.pyenv/versions/3.11.5/lib/python3.11/site-packages (from -r requirements.txt (line 48)) (0.3.19)\n",
      "Requirement already satisfied: langchain-text-splitters==0.3.2 in /Users/Felipe_Vianna/.pyenv/versions/3.11.5/lib/python3.11/site-packages (from -r requirements.txt (line 49)) (0.3.2)\n",
      "Requirement already satisfied: langsmith==0.1.143 in /Users/Felipe_Vianna/.pyenv/versions/3.11.5/lib/python3.11/site-packages (from -r requirements.txt (line 50)) (0.1.143)\n",
      "Requirement already satisfied: llama-cloud==0.1.5 in /Users/Felipe_Vianna/.pyenv/versions/3.11.5/lib/python3.11/site-packages (from -r requirements.txt (line 51)) (0.1.5)\n",
      "Requirement already satisfied: llama-index==0.12.0 in /Users/Felipe_Vianna/.pyenv/versions/3.11.5/lib/python3.11/site-packages (from -r requirements.txt (line 52)) (0.12.0)\n",
      "Requirement already satisfied: llama-index-agent-openai==0.4.0 in /Users/Felipe_Vianna/.pyenv/versions/3.11.5/lib/python3.11/site-packages (from -r requirements.txt (line 53)) (0.4.0)\n",
      "Requirement already satisfied: llama-index-cli==0.4.0 in /Users/Felipe_Vianna/.pyenv/versions/3.11.5/lib/python3.11/site-packages (from -r requirements.txt (line 54)) (0.4.0)\n",
      "Requirement already satisfied: llama-index-core==0.12.0 in /Users/Felipe_Vianna/.pyenv/versions/3.11.5/lib/python3.11/site-packages (from -r requirements.txt (line 55)) (0.12.0)\n",
      "Requirement already satisfied: llama-index-embeddings-openai==0.3.0 in /Users/Felipe_Vianna/.pyenv/versions/3.11.5/lib/python3.11/site-packages (from -r requirements.txt (line 56)) (0.3.0)\n",
      "Requirement already satisfied: llama-index-indices-managed-llama-cloud==0.6.2 in /Users/Felipe_Vianna/.pyenv/versions/3.11.5/lib/python3.11/site-packages (from -r requirements.txt (line 57)) (0.6.2)\n",
      "Requirement already satisfied: llama-index-legacy==0.9.48.post4 in /Users/Felipe_Vianna/.pyenv/versions/3.11.5/lib/python3.11/site-packages (from -r requirements.txt (line 58)) (0.9.48.post4)\n",
      "Requirement already satisfied: llama-index-llms-openai==0.3.0 in /Users/Felipe_Vianna/.pyenv/versions/3.11.5/lib/python3.11/site-packages (from -r requirements.txt (line 59)) (0.3.0)\n",
      "Requirement already satisfied: llama-index-multi-modal-llms-openai==0.3.0 in /Users/Felipe_Vianna/.pyenv/versions/3.11.5/lib/python3.11/site-packages (from -r requirements.txt (line 60)) (0.3.0)\n",
      "Requirement already satisfied: llama-index-program-openai==0.3.0 in /Users/Felipe_Vianna/.pyenv/versions/3.11.5/lib/python3.11/site-packages (from -r requirements.txt (line 61)) (0.3.0)\n",
      "Requirement already satisfied: llama-index-question-gen-openai==0.3.0 in /Users/Felipe_Vianna/.pyenv/versions/3.11.5/lib/python3.11/site-packages (from -r requirements.txt (line 62)) (0.3.0)\n",
      "Requirement already satisfied: llama-index-readers-file==0.4.0 in /Users/Felipe_Vianna/.pyenv/versions/3.11.5/lib/python3.11/site-packages (from -r requirements.txt (line 63)) (0.4.0)\n",
      "Requirement already satisfied: llama-index-readers-llama-parse==0.4.0 in /Users/Felipe_Vianna/.pyenv/versions/3.11.5/lib/python3.11/site-packages (from -r requirements.txt (line 64)) (0.4.0)\n",
      "Requirement already satisfied: llama-parse==0.5.14 in /Users/Felipe_Vianna/.pyenv/versions/3.11.5/lib/python3.11/site-packages (from -r requirements.txt (line 65)) (0.5.14)\n",
      "Requirement already satisfied: MarkupSafe==3.0.2 in /Users/Felipe_Vianna/.pyenv/versions/3.11.5/lib/python3.11/site-packages (from -r requirements.txt (line 66)) (3.0.2)\n",
      "Requirement already satisfied: marshmallow==3.23.1 in /Users/Felipe_Vianna/.pyenv/versions/3.11.5/lib/python3.11/site-packages (from -r requirements.txt (line 67)) (3.23.1)\n",
      "Requirement already satisfied: matplotlib-inline==0.1.7 in /Users/Felipe_Vianna/.pyenv/versions/3.11.5/lib/python3.11/site-packages (from -r requirements.txt (line 68)) (0.1.7)\n",
      "Requirement already satisfied: mistune==3.0.2 in /Users/Felipe_Vianna/.pyenv/versions/3.11.5/lib/python3.11/site-packages (from -r requirements.txt (line 69)) (3.0.2)\n",
      "Requirement already satisfied: mpmath==1.3.0 in /Users/Felipe_Vianna/.pyenv/versions/3.11.5/lib/python3.11/site-packages (from -r requirements.txt (line 70)) (1.3.0)\n",
      "Requirement already satisfied: multidict==6.1.0 in /Users/Felipe_Vianna/.pyenv/versions/3.11.5/lib/python3.11/site-packages (from -r requirements.txt (line 71)) (6.1.0)\n",
      "Requirement already satisfied: mypy-extensions==1.0.0 in /Users/Felipe_Vianna/.pyenv/versions/3.11.5/lib/python3.11/site-packages (from -r requirements.txt (line 72)) (1.0.0)\n",
      "Requirement already satisfied: nbclient==0.10.0 in /Users/Felipe_Vianna/.pyenv/versions/3.11.5/lib/python3.11/site-packages (from -r requirements.txt (line 73)) (0.10.0)\n",
      "Requirement already satisfied: nbconvert==7.16.4 in /Users/Felipe_Vianna/.pyenv/versions/3.11.5/lib/python3.11/site-packages (from -r requirements.txt (line 74)) (7.16.4)\n",
      "Requirement already satisfied: nbformat==5.10.4 in /Users/Felipe_Vianna/.pyenv/versions/3.11.5/lib/python3.11/site-packages (from -r requirements.txt (line 75)) (5.10.4)\n",
      "Requirement already satisfied: nest-asyncio==1.6.0 in /Users/Felipe_Vianna/.pyenv/versions/3.11.5/lib/python3.11/site-packages (from -r requirements.txt (line 76)) (1.6.0)\n",
      "Requirement already satisfied: networkx==3.4.2 in /Users/Felipe_Vianna/.pyenv/versions/3.11.5/lib/python3.11/site-packages (from -r requirements.txt (line 77)) (3.4.2)\n",
      "Requirement already satisfied: nltk==3.9.1 in /Users/Felipe_Vianna/.pyenv/versions/3.11.5/lib/python3.11/site-packages (from -r requirements.txt (line 78)) (3.9.1)\n",
      "Requirement already satisfied: numpy==1.26.4 in /Users/Felipe_Vianna/.pyenv/versions/3.11.5/lib/python3.11/site-packages (from -r requirements.txt (line 79)) (1.26.4)\n",
      "Requirement already satisfied: openai==1.54.5 in /Users/Felipe_Vianna/.pyenv/versions/3.11.5/lib/python3.11/site-packages (from -r requirements.txt (line 80)) (1.54.5)\n",
      "Requirement already satisfied: orjson==3.10.11 in /Users/Felipe_Vianna/.pyenv/versions/3.11.5/lib/python3.11/site-packages (from -r requirements.txt (line 81)) (3.10.11)\n",
      "Requirement already satisfied: packaging==24.2 in /Users/Felipe_Vianna/.pyenv/versions/3.11.5/lib/python3.11/site-packages (from -r requirements.txt (line 82)) (24.2)\n",
      "Requirement already satisfied: pandas==2.2.3 in /Users/Felipe_Vianna/.pyenv/versions/3.11.5/lib/python3.11/site-packages (from -r requirements.txt (line 83)) (2.2.3)\n",
      "Requirement already satisfied: pandocfilters==1.5.1 in /Users/Felipe_Vianna/.pyenv/versions/3.11.5/lib/python3.11/site-packages (from -r requirements.txt (line 84)) (1.5.1)\n",
      "Requirement already satisfied: parso==0.8.4 in /Users/Felipe_Vianna/.pyenv/versions/3.11.5/lib/python3.11/site-packages (from -r requirements.txt (line 85)) (0.8.4)\n",
      "Collecting pdfplumber==0.11.4 (from -r requirements.txt (line 86))\n",
      "  Using cached pdfplumber-0.11.4-py3-none-any.whl.metadata (41 kB)\n",
      "Requirement already satisfied: pexpect==4.9.0 in /Users/Felipe_Vianna/.pyenv/versions/3.11.5/lib/python3.11/site-packages (from -r requirements.txt (line 87)) (4.9.0)\n",
      "Requirement already satisfied: pillow==11.0.0 in /Users/Felipe_Vianna/.pyenv/versions/3.11.5/lib/python3.11/site-packages (from -r requirements.txt (line 88)) (11.0.0)\n",
      "Requirement already satisfied: platformdirs==4.3.6 in /Users/Felipe_Vianna/.pyenv/versions/3.11.5/lib/python3.11/site-packages (from -r requirements.txt (line 89)) (4.3.6)\n",
      "Requirement already satisfied: prompt_toolkit==3.0.48 in /Users/Felipe_Vianna/.pyenv/versions/3.11.5/lib/python3.11/site-packages (from -r requirements.txt (line 90)) (3.0.48)\n",
      "Requirement already satisfied: propcache==0.2.0 in /Users/Felipe_Vianna/.pyenv/versions/3.11.5/lib/python3.11/site-packages (from -r requirements.txt (line 91)) (0.2.0)\n",
      "Requirement already satisfied: ptyprocess==0.7.0 in /Users/Felipe_Vianna/.pyenv/versions/3.11.5/lib/python3.11/site-packages (from -r requirements.txt (line 92)) (0.7.0)\n",
      "Requirement already satisfied: pure_eval==0.2.3 in /Users/Felipe_Vianna/.pyenv/versions/3.11.5/lib/python3.11/site-packages (from -r requirements.txt (line 93)) (0.2.3)\n",
      "Requirement already satisfied: pydantic==2.9.2 in /Users/Felipe_Vianna/.pyenv/versions/3.11.5/lib/python3.11/site-packages (from -r requirements.txt (line 94)) (2.9.2)\n",
      "Requirement already satisfied: pydantic_core==2.23.4 in /Users/Felipe_Vianna/.pyenv/versions/3.11.5/lib/python3.11/site-packages (from -r requirements.txt (line 95)) (2.23.4)\n",
      "Requirement already satisfied: Pygments==2.18.0 in /Users/Felipe_Vianna/.pyenv/versions/3.11.5/lib/python3.11/site-packages (from -r requirements.txt (line 96)) (2.18.0)\n",
      "Requirement already satisfied: pypdf==5.1.0 in /Users/Felipe_Vianna/.pyenv/versions/3.11.5/lib/python3.11/site-packages (from -r requirements.txt (line 97)) (5.1.0)\n",
      "Requirement already satisfied: python-dateutil==2.9.0.post0 in /Users/Felipe_Vianna/.pyenv/versions/3.11.5/lib/python3.11/site-packages (from -r requirements.txt (line 98)) (2.9.0.post0)\n",
      "Requirement already satisfied: pytz==2024.2 in /Users/Felipe_Vianna/.pyenv/versions/3.11.5/lib/python3.11/site-packages (from -r requirements.txt (line 99)) (2024.2)\n",
      "Requirement already satisfied: PyYAML==6.0.2 in /Users/Felipe_Vianna/.pyenv/versions/3.11.5/lib/python3.11/site-packages (from -r requirements.txt (line 100)) (6.0.2)\n",
      "Requirement already satisfied: pyzmq==26.2.0 in /Users/Felipe_Vianna/.pyenv/versions/3.11.5/lib/python3.11/site-packages (from -r requirements.txt (line 101)) (26.2.0)\n",
      "Requirement already satisfied: referencing==0.35.1 in /Users/Felipe_Vianna/.pyenv/versions/3.11.5/lib/python3.11/site-packages (from -r requirements.txt (line 102)) (0.35.1)\n",
      "Requirement already satisfied: regex==2024.11.6 in /Users/Felipe_Vianna/.pyenv/versions/3.11.5/lib/python3.11/site-packages (from -r requirements.txt (line 103)) (2024.11.6)\n",
      "Requirement already satisfied: requests==2.32.3 in /Users/Felipe_Vianna/.pyenv/versions/3.11.5/lib/python3.11/site-packages (from -r requirements.txt (line 104)) (2.32.3)\n",
      "Requirement already satisfied: requests-toolbelt==1.0.0 in /Users/Felipe_Vianna/.pyenv/versions/3.11.5/lib/python3.11/site-packages (from -r requirements.txt (line 105)) (1.0.0)\n",
      "Requirement already satisfied: rpds-py==0.21.0 in /Users/Felipe_Vianna/.pyenv/versions/3.11.5/lib/python3.11/site-packages (from -r requirements.txt (line 106)) (0.21.0)\n",
      "Requirement already satisfied: safetensors==0.4.5 in /Users/Felipe_Vianna/.pyenv/versions/3.11.5/lib/python3.11/site-packages (from -r requirements.txt (line 107)) (0.4.5)\n",
      "Requirement already satisfied: scikit-learn==1.5.2 in /Users/Felipe_Vianna/.pyenv/versions/3.11.5/lib/python3.11/site-packages (from -r requirements.txt (line 108)) (1.5.2)\n",
      "Requirement already satisfied: scipy==1.14.1 in /Users/Felipe_Vianna/.pyenv/versions/3.11.5/lib/python3.11/site-packages (from -r requirements.txt (line 109)) (1.14.1)\n",
      "Requirement already satisfied: sentence-transformers==3.3.1 in /Users/Felipe_Vianna/.pyenv/versions/3.11.5/lib/python3.11/site-packages (from -r requirements.txt (line 110)) (3.3.1)\n",
      "Requirement already satisfied: six==1.16.0 in /Users/Felipe_Vianna/.pyenv/versions/3.11.5/lib/python3.11/site-packages (from -r requirements.txt (line 111)) (1.16.0)\n",
      "Requirement already satisfied: sniffio==1.3.1 in /Users/Felipe_Vianna/.pyenv/versions/3.11.5/lib/python3.11/site-packages (from -r requirements.txt (line 112)) (1.3.1)\n",
      "Requirement already satisfied: soupsieve==2.6 in /Users/Felipe_Vianna/.pyenv/versions/3.11.5/lib/python3.11/site-packages (from -r requirements.txt (line 113)) (2.6)\n",
      "Requirement already satisfied: SQLAlchemy==2.0.36 in /Users/Felipe_Vianna/.pyenv/versions/3.11.5/lib/python3.11/site-packages (from -r requirements.txt (line 114)) (2.0.36)\n",
      "Requirement already satisfied: stack-data==0.6.3 in /Users/Felipe_Vianna/.pyenv/versions/3.11.5/lib/python3.11/site-packages (from -r requirements.txt (line 115)) (0.6.3)\n",
      "Requirement already satisfied: striprtf==0.0.26 in /Users/Felipe_Vianna/.pyenv/versions/3.11.5/lib/python3.11/site-packages (from -r requirements.txt (line 116)) (0.0.26)\n",
      "Requirement already satisfied: sympy==1.13.3 in /Users/Felipe_Vianna/.pyenv/versions/3.11.5/lib/python3.11/site-packages (from -r requirements.txt (line 117)) (1.13.3)\n",
      "Requirement already satisfied: tenacity==8.5.0 in /Users/Felipe_Vianna/.pyenv/versions/3.11.5/lib/python3.11/site-packages (from -r requirements.txt (line 118)) (8.5.0)\n",
      "Requirement already satisfied: threadpoolctl==3.5.0 in /Users/Felipe_Vianna/.pyenv/versions/3.11.5/lib/python3.11/site-packages (from -r requirements.txt (line 119)) (3.5.0)\n",
      "Requirement already satisfied: tiktoken==0.8.0 in /Users/Felipe_Vianna/.pyenv/versions/3.11.5/lib/python3.11/site-packages (from -r requirements.txt (line 120)) (0.8.0)\n",
      "Requirement already satisfied: tinycss2==1.4.0 in /Users/Felipe_Vianna/.pyenv/versions/3.11.5/lib/python3.11/site-packages (from -r requirements.txt (line 121)) (1.4.0)\n",
      "Requirement already satisfied: tokenizers==0.20.3 in /Users/Felipe_Vianna/.pyenv/versions/3.11.5/lib/python3.11/site-packages (from -r requirements.txt (line 122)) (0.20.3)\n",
      "Requirement already satisfied: torch==2.2.2 in /Users/Felipe_Vianna/.pyenv/versions/3.11.5/lib/python3.11/site-packages (from -r requirements.txt (line 123)) (2.2.2)\n",
      "Requirement already satisfied: tornado==6.4.1 in /Users/Felipe_Vianna/.pyenv/versions/3.11.5/lib/python3.11/site-packages (from -r requirements.txt (line 124)) (6.4.1)\n",
      "Requirement already satisfied: tqdm==4.67.0 in /Users/Felipe_Vianna/.pyenv/versions/3.11.5/lib/python3.11/site-packages (from -r requirements.txt (line 125)) (4.67.0)\n",
      "Requirement already satisfied: traitlets==5.14.3 in /Users/Felipe_Vianna/.pyenv/versions/3.11.5/lib/python3.11/site-packages (from -r requirements.txt (line 126)) (5.14.3)\n",
      "Requirement already satisfied: transformers==4.46.3 in /Users/Felipe_Vianna/.pyenv/versions/3.11.5/lib/python3.11/site-packages (from -r requirements.txt (line 127)) (4.46.3)\n",
      "Requirement already satisfied: typing-inspect==0.9.0 in /Users/Felipe_Vianna/.pyenv/versions/3.11.5/lib/python3.11/site-packages (from -r requirements.txt (line 128)) (0.9.0)\n",
      "Requirement already satisfied: typing_extensions==4.12.2 in /Users/Felipe_Vianna/.pyenv/versions/3.11.5/lib/python3.11/site-packages (from -r requirements.txt (line 129)) (4.12.2)\n",
      "Requirement already satisfied: tzdata==2024.2 in /Users/Felipe_Vianna/.pyenv/versions/3.11.5/lib/python3.11/site-packages (from -r requirements.txt (line 130)) (2024.2)\n",
      "Requirement already satisfied: urllib3==2.2.3 in /Users/Felipe_Vianna/.pyenv/versions/3.11.5/lib/python3.11/site-packages (from -r requirements.txt (line 131)) (2.2.3)\n",
      "Requirement already satisfied: wcwidth==0.2.13 in /Users/Felipe_Vianna/.pyenv/versions/3.11.5/lib/python3.11/site-packages (from -r requirements.txt (line 132)) (0.2.13)\n",
      "Requirement already satisfied: webencodings==0.5.1 in /Users/Felipe_Vianna/.pyenv/versions/3.11.5/lib/python3.11/site-packages (from -r requirements.txt (line 133)) (0.5.1)\n",
      "Requirement already satisfied: Werkzeug==3.1.3 in /Users/Felipe_Vianna/.pyenv/versions/3.11.5/lib/python3.11/site-packages (from -r requirements.txt (line 134)) (3.1.3)\n",
      "Requirement already satisfied: wrapt==1.16.0 in /Users/Felipe_Vianna/.pyenv/versions/3.11.5/lib/python3.11/site-packages (from -r requirements.txt (line 135)) (1.16.0)\n",
      "Requirement already satisfied: yarl==1.17.2 in /Users/Felipe_Vianna/.pyenv/versions/3.11.5/lib/python3.11/site-packages (from -r requirements.txt (line 136)) (1.17.2)\n",
      "Collecting pdfminer.six==20231228 (from pdfplumber==0.11.4->-r requirements.txt (line 86))\n",
      "  Using cached pdfminer.six-20231228-py3-none-any.whl.metadata (4.2 kB)\n",
      "Collecting pypdfium2>=4.18.0 (from pdfplumber==0.11.4->-r requirements.txt (line 86))\n",
      "  Downloading pypdfium2-4.30.0-py3-none-macosx_11_0_arm64.whl.metadata (48 kB)\n",
      "Collecting cryptography>=36.0.0 (from pdfminer.six==20231228->pdfplumber==0.11.4->-r requirements.txt (line 86))\n",
      "  Using cached cryptography-43.0.3-cp39-abi3-macosx_10_9_universal2.whl.metadata (5.4 kB)\n",
      "Requirement already satisfied: cffi>=1.12 in /Users/Felipe_Vianna/.pyenv/versions/3.11.5/lib/python3.11/site-packages (from cryptography>=36.0.0->pdfminer.six==20231228->pdfplumber==0.11.4->-r requirements.txt (line 86)) (1.16.0)\n",
      "Requirement already satisfied: pycparser in /Users/Felipe_Vianna/.pyenv/versions/3.11.5/lib/python3.11/site-packages (from cffi>=1.12->cryptography>=36.0.0->pdfminer.six==20231228->pdfplumber==0.11.4->-r requirements.txt (line 86)) (2.21)\n",
      "Using cached pdfplumber-0.11.4-py3-none-any.whl (59 kB)\n",
      "Using cached pdfminer.six-20231228-py3-none-any.whl (5.6 MB)\n",
      "Downloading pypdfium2-4.30.0-py3-none-macosx_11_0_arm64.whl (2.7 MB)\n",
      "\u001b[2K   \u001b[38;2;114;156;31m━━━━━━━━━━━━━━━━━━━━━━━━━━━━━━━━━━━━━━━━\u001b[0m \u001b[32m2.7/2.7 MB\u001b[0m \u001b[31m4.9 MB/s\u001b[0m eta \u001b[36m0:00:00\u001b[0m MB/s\u001b[0m eta \u001b[36m0:00:01\u001b[0m:01\u001b[0m\n",
      "\u001b[?25hUsing cached cryptography-43.0.3-cp39-abi3-macosx_10_9_universal2.whl (6.2 MB)\n",
      "Installing collected packages: pypdfium2, cryptography, pdfminer.six, pdfplumber\n",
      "Successfully installed cryptography-43.0.3 pdfminer.six-20231228 pdfplumber-0.11.4 pypdfium2-4.30.0\n",
      "Note: you may need to restart the kernel to use updated packages.\n"
     ]
    }
   ],
   "source": [
    "pip install -r requirements.txt"
   ]
  },
  {
   "cell_type": "markdown",
   "id": "cd58c40c-6bf1-43fb-a590-2c82ae4144de",
   "metadata": {},
   "source": [
    "## Set environment\n",
    "ensure you have a .env file with the variables:\n",
    "\n",
    "```\n",
    "OPENAI_API_KEY=\"your openai key\"\n",
    "OPENAI_API_BASE=\"your openai URL\"\n",
    "``` \n"
   ]
  },
  {
   "cell_type": "code",
   "execution_count": 1,
   "id": "3bf9d296-1bde-4918-a70e-db1ff321b074",
   "metadata": {},
   "outputs": [],
   "source": [
    "!export $(grep -v '^#' .env | xargs)"
   ]
  },
  {
   "cell_type": "markdown",
   "id": "20bc54c9-1390-4340-bc65-6fe23c0f0bc1",
   "metadata": {},
   "source": [
    "## Test connectivity"
   ]
  },
  {
   "cell_type": "code",
   "execution_count": 2,
   "id": "aea7a476-fb8f-4017-8bbb-c27b6a49e866",
   "metadata": {},
   "outputs": [],
   "source": [
    "from src.llama_index_test import test_llamaindex"
   ]
  },
  {
   "cell_type": "code",
   "execution_count": 3,
   "id": "d7835089-8617-4ae5-ad04-3f5ee14e8c65",
   "metadata": {},
   "outputs": [
    {
     "name": "stdout",
     "output_type": "stream",
     "text": [
      "Response: Shakespeare is a poetic and eloquent wordsmith, whose deep understanding of human nature shines through his dialogue.\n"
     ]
    }
   ],
   "source": [
    "test_llamaindex(query=\"Who's Shakespeare?\")"
   ]
  },
  {
   "cell_type": "code",
   "execution_count": 4,
   "id": "1a85e97a-03a0-4087-b538-d4c58ee6473e",
   "metadata": {},
   "outputs": [
    {
     "name": "stdout",
     "output_type": "stream",
     "text": [
      "Response: Deadpool is a witty, sarcastic anti-hero.\n"
     ]
    }
   ],
   "source": [
    "test_llamaindex(query=\"Who's Deadpool?\")"
   ]
  },
  {
   "cell_type": "code",
   "execution_count": null,
   "id": "19a11110-286a-4395-b972-e6b443cee566",
   "metadata": {},
   "outputs": [],
   "source": []
  }
 ],
 "metadata": {
  "kernelspec": {
   "display_name": "Python 3 (ipykernel)",
   "language": "python",
   "name": "python3"
  },
  "language_info": {
   "codemirror_mode": {
    "name": "ipython",
    "version": 3
   },
   "file_extension": ".py",
   "mimetype": "text/x-python",
   "name": "python",
   "nbconvert_exporter": "python",
   "pygments_lexer": "ipython3",
   "version": "3.11.5"
  }
 },
 "nbformat": 4,
 "nbformat_minor": 5
}
