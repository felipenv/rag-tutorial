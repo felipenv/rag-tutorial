{
 "cells": [
  {
   "cell_type": "markdown",
   "id": "d92f8afe-3b7e-45be-bb99-40bb510b9f02",
   "metadata": {},
   "source": [
    "## Install packages"
   ]
  },
  {
   "cell_type": "code",
   "execution_count": null,
   "id": "cc89af77-5909-4fe3-b493-7854b7e1b142",
   "metadata": {
    "scrolled": true
   },
   "outputs": [],
   "source": [
    "pip install -r ../requirements.txt"
   ]
  },
  {
   "cell_type": "markdown",
   "id": "f6762764-83f7-47f6-aeb3-bad67dcf9576",
   "metadata": {},
   "source": [
    "### Install files in src as a package"
   ]
  },
  {
   "cell_type": "code",
   "execution_count": null,
   "id": "7c23f0a8-5611-44ac-a76a-33c8e7f63f98",
   "metadata": {},
   "outputs": [],
   "source": [
    "!pip install -e ../"
   ]
  },
  {
   "cell_type": "markdown",
   "id": "cd58c40c-6bf1-43fb-a590-2c82ae4144de",
   "metadata": {},
   "source": [
    "## Set environment\n",
    "ensure you have a .env file with the variables:\n",
    "\n",
    "```\n",
    "OPENAI_API_KEY=\"your openai key\"\n",
    "OPENAI_API_BASE=\"your openai URL\"\n",
    "``` \n"
   ]
  },
  {
   "cell_type": "code",
   "execution_count": null,
   "id": "3bf9d296-1bde-4918-a70e-db1ff321b074",
   "metadata": {},
   "outputs": [],
   "source": [
    "!export $(grep -v '^#' ../.env | xargs)"
   ]
  },
  {
   "cell_type": "markdown",
   "id": "20bc54c9-1390-4340-bc65-6fe23c0f0bc1",
   "metadata": {},
   "source": [
    "## Test connectivity"
   ]
  },
  {
   "cell_type": "code",
   "execution_count": null,
   "id": "aea7a476-fb8f-4017-8bbb-c27b6a49e866",
   "metadata": {},
   "outputs": [],
   "source": [
    "from llama_index_test import test_llamaindex"
   ]
  },
  {
   "cell_type": "code",
   "execution_count": null,
   "id": "d7835089-8617-4ae5-ad04-3f5ee14e8c65",
   "metadata": {},
   "outputs": [],
   "source": [
    "test_llamaindex(query=\"Who's Shakespeare?\")"
   ]
  },
  {
   "cell_type": "code",
   "execution_count": null,
   "id": "1a85e97a-03a0-4087-b538-d4c58ee6473e",
   "metadata": {},
   "outputs": [],
   "source": [
    "test_llamaindex(query=\"Who's Deadpool?\")"
   ]
  },
  {
   "cell_type": "code",
   "execution_count": null,
   "id": "19a11110-286a-4395-b972-e6b443cee566",
   "metadata": {},
   "outputs": [],
   "source": []
  }
 ],
 "metadata": {
  "kernelspec": {
   "display_name": "Python 3 (ipykernel)",
   "language": "python",
   "name": "python3"
  },
  "language_info": {
   "codemirror_mode": {
    "name": "ipython",
    "version": 3
   },
   "file_extension": ".py",
   "mimetype": "text/x-python",
   "name": "python",
   "nbconvert_exporter": "python",
   "pygments_lexer": "ipython3",
   "version": "3.11.5"
  }
 },
 "nbformat": 4,
 "nbformat_minor": 5
}
